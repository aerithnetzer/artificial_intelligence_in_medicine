{
 "cells": [
  {
   "cell_type": "code",
   "execution_count": null,
   "id": "37648a03",
   "metadata": {},
   "outputs": [],
   "source": [
    "import networkx as nx"
   ]
  },
  {
   "cell_type": "code",
   "execution_count": null,
   "id": "6f98bd64",
   "metadata": {},
   "outputs": [],
   "source": [
    "# Load network graph from models\n",
    "graph = nx.read"
   ]
  }
 ],
 "metadata": {
  "kernelspec": {
   "display_name": ".venv",
   "language": "python",
   "name": "python3"
  },
  "language_info": {
   "name": "python",
   "version": "3.11.13"
  }
 },
 "nbformat": 4,
 "nbformat_minor": 5
}
