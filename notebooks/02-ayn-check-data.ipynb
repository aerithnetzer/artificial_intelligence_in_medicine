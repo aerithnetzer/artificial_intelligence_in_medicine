{
 "cells": [
  {
   "cell_type": "code",
   "execution_count": 1,
   "id": "2f269787",
   "metadata": {},
   "outputs": [],
   "source": [
    "import pandas as pd"
   ]
  },
  {
   "cell_type": "code",
   "execution_count": 6,
   "id": "84590010",
   "metadata": {},
   "outputs": [],
   "source": [
    "df = pd.read_json(\"/Users/ysc4337/warlock/artificial_intelligence_in_medicine/data/interim/GENE_EXPRESSION/features_with_ror.json\")"
   ]
  },
  {
   "cell_type": "code",
   "execution_count": 7,
   "id": "fac79724",
   "metadata": {},
   "outputs": [
    {
     "name": "stdout",
     "output_type": "stream",
     "text": [
      "Number of missing pmids: 0\n",
      "Example missing pmids: []\n"
     ]
    }
   ],
   "source": [
    "# Read pmids from the text file\n",
    "with open(\"/Users/ysc4337/warlock/artificial_intelligence_in_medicine/data/raw/GENE_EXPRESSION/pmids.txt\") as f:\n",
    "    pmids_txt = set(line.strip() for line in f if line.strip())\n",
    "\n",
    "# Get pmids from the dataframe\n",
    "pmids_df = set(df['pmid'].astype(str))\n",
    "\n",
    "# Find pmids in txt file not in dataframe\n",
    "missing_pmids = pmids_txt - pmids_df\n",
    "\n",
    "print(f\"Number of missing pmids: {len(missing_pmids)}\")\n",
    "print(\"Example missing pmids:\", list(missing_pmids)[:10])"
   ]
  },
  {
   "cell_type": "code",
   "execution_count": null,
   "id": "bf489689",
   "metadata": {},
   "outputs": [
    {
     "name": "stderr",
     "output_type": "stream",
     "text": [
      "\u001b[32m2025-07-27 16:32:53.539\u001b[0m | \u001b[1mINFO    \u001b[0m | \u001b[36martificial_intelligence_in_medicine.config\u001b[0m:\u001b[36m<module>\u001b[0m:\u001b[36m11\u001b[0m - \u001b[1mPROJ_ROOT path is: /Users/ysc4337/warlock/artificial_intelligence_in_medicine\u001b[0m\n"
     ]
    },
    {
     "ename": "ImportError",
     "evalue": "cannot import name 'get_pubmed_data' from 'artificial_intelligence_in_medicine.dataset' (/Users/ysc4337/warlock/artificial_intelligence_in_medicine/artificial_intelligence_in_medicine/dataset.py)",
     "output_type": "error",
     "traceback": [
      "\u001b[31m---------------------------------------------------------------------------\u001b[39m",
      "\u001b[31mImportError\u001b[39m                               Traceback (most recent call last)",
      "\u001b[36mCell\u001b[39m\u001b[36m \u001b[39m\u001b[32mIn[5]\u001b[39m\u001b[32m, line 1\u001b[39m\n\u001b[32m----> \u001b[39m\u001b[32m1\u001b[39m \u001b[38;5;28;01mfrom\u001b[39;00m\u001b[38;5;250m \u001b[39m\u001b[34;01martificial_intelligence_in_medicine\u001b[39;00m\u001b[34;01m.\u001b[39;00m\u001b[34;01mdataset\u001b[39;00m\u001b[38;5;250m \u001b[39m\u001b[38;5;28;01mimport\u001b[39;00m get_pubmed_data, get_citation_data, get_ror_data\n\u001b[32m      3\u001b[39m pubmed_data = get_pubmed_data(df)\n\u001b[32m      4\u001b[39m citation_data = get_citation_data(df)\n",
      "\u001b[31mImportError\u001b[39m: cannot import name 'get_pubmed_data' from 'artificial_intelligence_in_medicine.dataset' (/Users/ysc4337/warlock/artificial_intelligence_in_medicine/artificial_intelligence_in_medicine/dataset.py)"
     ]
    }
   ],
   "source": []
  },
  {
   "cell_type": "code",
   "execution_count": null,
   "id": "47e1e002",
   "metadata": {},
   "outputs": [],
   "source": []
  }
 ],
 "metadata": {
  "kernelspec": {
   "display_name": ".venv",
   "language": "python",
   "name": "python3"
  },
  "language_info": {
   "codemirror_mode": {
    "name": "ipython",
    "version": 3
   },
   "file_extension": ".py",
   "mimetype": "text/x-python",
   "name": "python",
   "nbconvert_exporter": "python",
   "pygments_lexer": "ipython3",
   "version": "3.11.13"
  }
 },
 "nbformat": 4,
 "nbformat_minor": 5
}
